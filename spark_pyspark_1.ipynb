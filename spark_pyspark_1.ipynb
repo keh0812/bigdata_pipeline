{
 "cells": [
  {
   "cell_type": "code",
   "execution_count": 126,
   "metadata": {},
   "outputs": [],
   "source": [
    "\n",
    "#setting\n",
    "import os\n",
    "os.chdir(\"..\")\n",
    "import nb_init\n",
    "\n",
    "os.environ['CEP_ENV'] = 'local'\n"
   ]
  },
  {
   "cell_type": "code",
   "execution_count": 127,
   "metadata": {},
   "outputs": [],
   "source": [
    "# 필요 Pyspark 모듈 import\n",
    "from cep_common import spark_utils as su\n",
    "from cep_common import config as con\n",
    "\n",
    "from pyspark.sql.types import *\n",
    "import pyspark.sql.functions as F\n",
    "\n",
    "# Create SparkSession\n",
    "spark = su.create_spark_session(appName=\"pipeline-sample\")"
   ]
  },
  {
   "cell_type": "code",
   "execution_count": 128,
   "metadata": {},
   "outputs": [],
   "source": [
    "file_ext = [\"pdf\", \"png\"] # 비정형 파일 리스트\n",
    "src_path = \"hdfs://{}/datalake/hdfs/test/**{}\".format(con.HADOOP_NODE, file_ext)"
   ]
  },
  {
   "cell_type": "code",
   "execution_count": 129,
   "metadata": {},
   "outputs": [],
   "source": [
    "# schema 정의\n",
    "batchDataFrame = spark.read.format(\"binaryFile\").load(src_path).limit(1)"
   ]
  },
  {
   "cell_type": "code",
   "execution_count": 130,
   "metadata": {},
   "outputs": [],
   "source": [
    "#HDFS에서 이미지 읽어오기\n",
    "df = spark.readStream \\\n",
    "    .format('binaryFile') \\\n",
    "    .schema(batchDataFrame.schema) \\\n",
    "    .load(src_path)"
   ]
  },
  {
   "cell_type": "code",
   "execution_count": 132,
   "metadata": {},
   "outputs": [],
   "source": [
    "# dataframe 정리 및 컬럼 추가\n",
    "df = df.select(\"path\", \"content\", df.modificationTime.alias(\"modified_time\"))\n",
    "df = df.withColumn(\"file_type\", F.element_at(F.split(F.col(\"path\"), \"\\.\"), -1))"
   ]
  },
  {
   "cell_type": "code",
   "execution_count": 133,
   "metadata": {},
   "outputs": [
    {
     "data": {
      "text/plain": [
       "<pyspark.sql.streaming.StreamingQuery at 0x2e777fe6b88>"
      ]
     },
     "execution_count": 133,
     "metadata": {},
     "output_type": "execute_result"
    }
   ],
   "source": [
    "# delta table에 데이터 저장\n",
    "table_name = \"samples\"\n",
    "save_path = \"hdfs://{}/datalake/delta/bronze/{}\".format(con.HADOOP_NODE, table_name)\n",
    "\n",
    "df.writeStream \\\n",
    "    .format(\"delta\") \\\n",
    "    .outputMode(\"append\") \\\n",
    "    .trigger(processingTime='1 second') \\\n",
    "    .option(\"checkpointLocation\", save_path+\"/check_points\") \\\n",
    "    .option(\"path\", save_path) \\\n",
    "    .start()\n",
    "    "
   ]
  },
  {
   "cell_type": "code",
   "execution_count": 135,
   "metadata": {},
   "outputs": [
    {
     "name": "stdout",
     "output_type": "stream",
     "text": [
      "+--------------------+--------------------+--------------------+---------+\n",
      "|                path|             content|       modified_time|file_type|\n",
      "+--------------------+--------------------+--------------------+---------+\n",
      "|hdfs://tib.t3q.ai...|[25 50 44 46 2D 3...|2021-06-21 15:22:...|      pdf|\n",
      "|hdfs://tib.t3q.ai...|[89 50 4E 47 0D 0...|2021-06-22 14:29:...|      png|\n",
      "+--------------------+--------------------+--------------------+---------+\n",
      "\n"
     ]
    }
   ],
   "source": [
    "# 저장된 데이터 확인\n",
    "bronze_load = spark.read \\\n",
    "    .format(\"delta\") \\\n",
    "    .load(save_path)\n",
    "\n",
    "bronze_load.show()"
   ]
  },
  {
   "cell_type": "code",
   "execution_count": 136,
   "metadata": {},
   "outputs": [],
   "source": [
    "spark.stop()"
   ]
  },
  {
   "cell_type": "code",
   "execution_count": null,
   "metadata": {},
   "outputs": [],
   "source": []
  }
 ],
 "metadata": {
  "interpreter": {
   "hash": "bd5f0083e2acd3194bd67048da60694b9142c29f8f86bbc3120b0dc5c73590e9"
  },
  "kernelspec": {
   "display_name": "spark",
   "language": "python",
   "name": "spark"
  },
  "language_info": {
   "codemirror_mode": {
    "name": "ipython",
    "version": 3
   },
   "file_extension": ".py",
   "mimetype": "text/x-python",
   "name": "python",
   "nbconvert_exporter": "python",
   "pygments_lexer": "ipython3",
   "version": "3.7.6"
  },
  "orig_nbformat": 2
 },
 "nbformat": 4,
 "nbformat_minor": 2
}
