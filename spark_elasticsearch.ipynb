{
 "cells": [
  {
   "cell_type": "code",
   "execution_count": 11,
   "metadata": {},
   "outputs": [],
   "source": [
    "# 서버 카프카에 \"image_topic\" (base64 ecoding된 이미지) 토픽 추가 하였다, 없으면 추가\n",
    "\n",
    "#setting\n",
    "import os\n",
    "os.chdir(\"..\")\n",
    "import nb_init\n",
    "\n",
    "os.environ['CEP_ENV'] = 'local'"
   ]
  },
  {
   "cell_type": "code",
   "execution_count": 12,
   "metadata": {},
   "outputs": [],
   "source": [
    "# 필요 Pyspark 모듈 import\n",
    "from cep_common import spark_utils as su\n",
    "from cep_common import config as con\n",
    "\n",
    "from pyspark.sql.types import *\n",
    "import pyspark.sql.functions as F\n",
    "\n",
    "# Create SparkSession\n",
    "spark = su.create_spark_session(appName=\"hdfs-sample-delta\")"
   ]
  },
  {
   "cell_type": "code",
   "execution_count": 13,
   "metadata": {},
   "outputs": [],
   "source": [
    "file_name = \"example.csv\"\n",
    "src_path = \"hdfs://{}/datalake/hdfs/test/{}\".format(con.HADOOP_NODE, file_name)"
   ]
  },
  {
   "cell_type": "code",
   "execution_count": 14,
   "metadata": {},
   "outputs": [],
   "source": [
    "# HDFS에서 CSV 데이터를 읽어온다\n",
    "csv_df_load = spark.read \\\n",
    "    .format(\"csv\") \\\n",
    "    .load(src_path)"
   ]
  },
  {
   "cell_type": "code",
   "execution_count": 15,
   "metadata": {},
   "outputs": [
    {
     "name": "stdout",
     "output_type": "stream",
     "text": [
      "+------+---+\n",
      "|   _c0|_c1|\n",
      "+------+---+\n",
      "|Second|  2|\n",
      "|Fourth|  4|\n",
      "| First|  1|\n",
      "| Third|  3|\n",
      "| Fifth|  5|\n",
      "+------+---+\n",
      "\n"
     ]
    }
   ],
   "source": [
    "csv_df_load.show()"
   ]
  },
  {
   "cell_type": "code",
   "execution_count": 16,
   "metadata": {},
   "outputs": [],
   "source": [
    "# elasticsearch 노드 정보\n",
    "es_conf = {\n",
    "    \"es.nodes\": con.ES_NODES\n",
    "}"
   ]
  },
  {
   "cell_type": "code",
   "execution_count": 17,
   "metadata": {},
   "outputs": [],
   "source": [
    "# elasticsearch 인덱싱\n",
    "csv_df_load.write \\\n",
    "    .format(\"es\") \\\n",
    "    .options(**es_conf) \\\n",
    "    .mode(\"overwrite\") \\\n",
    "    .save(\"example/_doc\")"
   ]
  },
  {
   "cell_type": "code",
   "execution_count": 18,
   "metadata": {},
   "outputs": [],
   "source": [
    "spark.stop()"
   ]
  },
  {
   "cell_type": "markdown",
   "metadata": {},
   "source": [
    "# 포스트맨에서 쿼리 확인\n",
    "\n",
    "GET http://tib.t3q.ai:9200/_search\n",
    "```\n",
    "Header:  \n",
    "    Content-Type: application/x-ndjson  \n",
    "\n",
    "Body:  \n",
    "    JSON:   \n",
    "{\n",
    "    \"query\": {\n",
    "        \"term\": {\n",
    "           \"_index\": {\n",
    "              \"value\": \"example\"\n",
    "           }\n",
    "        }\n",
    "    }\n",
    "\n",
    "}\n",
    "```\n"
   ]
  }
 ],
 "metadata": {
  "interpreter": {
   "hash": "bd5f0083e2acd3194bd67048da60694b9142c29f8f86bbc3120b0dc5c73590e9"
  },
  "kernelspec": {
   "display_name": "spark",
   "language": "python",
   "name": "spark"
  },
  "language_info": {
   "codemirror_mode": {
    "name": "ipython",
    "version": 3
   },
   "file_extension": ".py",
   "mimetype": "text/x-python",
   "name": "python",
   "nbconvert_exporter": "python",
   "pygments_lexer": "ipython3",
   "version": "3.7.6"
  },
  "orig_nbformat": 2
 },
 "nbformat": 4,
 "nbformat_minor": 2
}
