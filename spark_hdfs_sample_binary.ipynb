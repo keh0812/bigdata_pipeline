{
 "cells": [
  {
   "cell_type": "code",
   "execution_count": 7,
   "metadata": {},
   "outputs": [],
   "source": [
    "#setting\n",
    "import os\n",
    "os.chdir(\"..\")\n",
    "import nb_init\n",
    "\n",
    "os.environ['CEP_ENV'] = 'local'\n"
   ]
  },
  {
   "cell_type": "code",
   "execution_count": 8,
   "metadata": {},
   "outputs": [],
   "source": [
    "# 필요 Pyspark 모듈 import\n",
    "from cep_common import spark_utils as su\n",
    "from cep_common import config as con\n",
    "\n",
    "from pyspark.sql.types import *\n",
    "import pyspark.sql.functions as F\n",
    "\n",
    "# Create SparkSession\n",
    "spark = su.create_spark_session(appName=\"hdfs-sample-bin\")"
   ]
  },
  {
   "cell_type": "code",
   "execution_count": 9,
   "metadata": {},
   "outputs": [
    {
     "name": "stdout",
     "output_type": "stream",
     "text": [
      "+--------------------+--------------------+------+--------------------+\n",
      "|                path|    modificationTime|length|             content|\n",
      "+--------------------+--------------------+------+--------------------+\n",
      "|hdfs://tib.t3q.ai...|2021-06-21 15:22:...| 24528|[25 50 44 46 2D 3...|\n",
      "+--------------------+--------------------+------+--------------------+\n",
      "\n"
     ]
    }
   ],
   "source": [
    "file_name = \"test_pdf.pdf\"\n",
    "src_path = \"hdfs://{}/datalake/hdfs/test/{}\".format(con.HADOOP_NODE, file_name)\n",
    "\n",
    "bin_df = spark.read \\\n",
    "    .format(\"binaryFile\") \\\n",
    "    .load(src_path)\n",
    "\n",
    "bin_df.show()\n",
    "\n",
    "#content안에 bytearray형태로 읽어온다"
   ]
  },
  {
   "cell_type": "code",
   "execution_count": 11,
   "metadata": {},
   "outputs": [],
   "source": [
    "content = bin_df.take(1)[0].content #table 첫번째 데이터 content만 불러오기"
   ]
  },
  {
   "cell_type": "code",
   "execution_count": 12,
   "metadata": {},
   "outputs": [
    {
     "name": "stdout",
     "output_type": "stream",
     "text": [
      "+--------------------+--------------------+------+--------------------+\n",
      "|                path|    modificationTime|length|             content|\n",
      "+--------------------+--------------------+------+--------------------+\n",
      "|hdfs://tib.t3q.ai...|2021-06-21 15:22:...| 24528|[25 50 44 46 2D 3...|\n",
      "+--------------------+--------------------+------+--------------------+\n",
      "\n"
     ]
    }
   ],
   "source": [
    "# 영상 파일도 같은 방법으로 불러올수 있다\n",
    "file_name2 = \"sample.mp4\"\n",
    "src_path2 = \"hdfs://{}/datalake/hdfs/test/{}\".format(con.HADOOP_NODE, file_name)\n",
    "\n",
    "vid_df = spark.read \\\n",
    "    .format(\"binaryFile\") \\\n",
    "    .load(src_path2)\n",
    "\n",
    "vid_df.show()"
   ]
  },
  {
   "cell_type": "code",
   "execution_count": 14,
   "metadata": {},
   "outputs": [],
   "source": [
    "content2 = bin_df.take(1)[0].content #table 첫번째 데이터 content만 불러오기"
   ]
  },
  {
   "cell_type": "code",
   "execution_count": 15,
   "metadata": {},
   "outputs": [],
   "source": [
    "spark.stop()"
   ]
  },
  {
   "cell_type": "code",
   "execution_count": null,
   "metadata": {},
   "outputs": [],
   "source": []
  }
 ],
 "metadata": {
  "interpreter": {
   "hash": "bd5f0083e2acd3194bd67048da60694b9142c29f8f86bbc3120b0dc5c73590e9"
  },
  "kernelspec": {
   "display_name": "spark",
   "language": "python",
   "name": "spark"
  },
  "language_info": {
   "codemirror_mode": {
    "name": "ipython",
    "version": 3
   },
   "file_extension": ".py",
   "mimetype": "text/x-python",
   "name": "python",
   "nbconvert_exporter": "python",
   "pygments_lexer": "ipython3",
   "version": "3.7.6"
  },
  "orig_nbformat": 2
 },
 "nbformat": 4,
 "nbformat_minor": 2
}
